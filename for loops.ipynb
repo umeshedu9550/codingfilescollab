{
 "cells": [
  {
   "cell_type": "code",
   "execution_count": null,
   "id": "15f2ba87",
   "metadata": {},
   "outputs": [],
   "source": [
    "even number \n",
    "1) check if a give number is even number\n",
    "2) print all even numbers between 1-100\n",
    "odd number \n",
    "1) check if a give number is odd number\n",
    "2) print all odd numbers between 1-100\n",
    "prime number \n",
    "1) check if a give number is prime number\n",
    "2) print all prime numbers between 1-100\n",
    "composite number\n",
    "1) check if a give number is composite number\n",
    "2) print all composite numbers between 1-100\n",
    "perfect number \n",
    "1) check if a give number is perfect number\n",
    "2) print all perfect numbers between 1-100\n",
    "armstrong number \n",
    "1) check if a give number is armstrong number\n",
    "\n",
    "    "
   ]
  },
  {
   "cell_type": "code",
   "execution_count": 14,
   "id": "09f663b0",
   "metadata": {},
   "outputs": [
    {
     "name": "stdout",
     "output_type": "stream",
     "text": [
      "Enter a number:7\n"
     ]
    }
   ],
   "source": [
    "#check if a give number is even number\n",
    "# even number : number which divided by 2 and gives result as 0\n",
    "n = int(input(\"Enter a number:\"))\n",
    "if n % 2 == 0:\n",
    "    print(n, \"is an even number\")\n",
    "else:\n",
    "    print(n, \"is not an even number\")\n"
   ]
  },
  {
   "cell_type": "code",
   "execution_count": 8,
   "id": "b7c18b34",
   "metadata": {},
   "outputs": [
    {
     "name": "stdout",
     "output_type": "stream",
     "text": [
      "even number: 2|even number: 4|even number: 6|even number: 8|even number: 10|even number: 12|even number: 14|even number: 16|even number: 18|even number: 20|even number: 22|even number: 24|even number: 26|even number: 28|even number: 30|even number: 32|even number: 34|even number: 36|even number: 38|even number: 40|even number: 42|even number: 44|even number: 46|even number: 48|even number: 50|even number: 52|even number: 54|even number: 56|even number: 58|even number: 60|even number: 62|even number: 64|even number: 66|even number: 68|even number: 70|even number: 72|even number: 74|even number: 76|even number: 78|even number: 80|even number: 82|even number: 84|even number: 86|even number: 88|even number: 90|even number: 92|even number: 94|even number: 96|even number: 98|even number: 100|"
     ]
    }
   ],
   "source": [
    "#print all even numbers between 1-100\n",
    "for n in range(1,101):\n",
    "    if n % 2 == 0:\n",
    "        print(\"even number:\",n, end = \"|\")\n",
    "#     else:\n",
    "#         print(\"odd number:\",n)"
   ]
  },
  {
   "cell_type": "code",
   "execution_count": 17,
   "id": "cb6a5bba",
   "metadata": {},
   "outputs": [
    {
     "name": "stdout",
     "output_type": "stream",
     "text": [
      "enter a number: 7\n",
      "7 is a odd number\n"
     ]
    }
   ],
   "source": [
    "# check if a give number is odd number\n",
    "# number which divided by 2 and gives result as 1\n",
    "n = int(input(\"enter a number: \"))\n",
    "if n % 2 == 1:\n",
    "    print(n,\"is a odd number\")\n",
    "else:\n",
    "    print(n,\"is not a odd number\")\n",
    "   "
   ]
  },
  {
   "cell_type": "code",
   "execution_count": 7,
   "id": "e68f489a",
   "metadata": {},
   "outputs": [
    {
     "name": "stdout",
     "output_type": "stream",
     "text": [
      "odd number: 1|odd number: 3|odd number: 5|odd number: 7|odd number: 9|odd number: 11|odd number: 13|odd number: 15|odd number: 17|odd number: 19|odd number: 21|odd number: 23|odd number: 25|odd number: 27|odd number: 29|odd number: 31|odd number: 33|odd number: 35|odd number: 37|odd number: 39|odd number: 41|odd number: 43|odd number: 45|odd number: 47|odd number: 49|odd number: 51|odd number: 53|odd number: 55|odd number: 57|odd number: 59|odd number: 61|odd number: 63|odd number: 65|odd number: 67|odd number: 69|odd number: 71|odd number: 73|odd number: 75|odd number: 77|odd number: 79|odd number: 81|odd number: 83|odd number: 85|odd number: 87|odd number: 89|odd number: 91|odd number: 93|odd number: 95|odd number: 97|odd number: 99|"
     ]
    }
   ],
   "source": [
    "#print all odd numbers between 1-100\n",
    "for n in range(1,101):\n",
    "    if n % 2 != 0:\n",
    "        print(\"odd number:\",n , end = \"|\")\n"
   ]
  },
  {
   "cell_type": "code",
   "execution_count": 47,
   "id": "5cc83dce",
   "metadata": {},
   "outputs": [
    {
     "name": "stdout",
     "output_type": "stream",
     "text": [
      "enter a number: 1\n",
      "1 is not a prime\n"
     ]
    }
   ],
   "source": [
    "# check if a give number is prime number\n",
    "# number is greater than 1 \n",
    "# has only 2 factors one and it self.\n",
    "# i is a iterating variable , iterates from (2 to num-1)\n",
    "# if num = 4 , 4/2,4/3 -> 4/2 gives 0 as result so 4 is not prime\n",
    "# if num = 5 , 5/2,5/3,5/4 -> nothing gives result 0 , so 5 is prime\n",
    "\n",
    "num = int(input(\"enter a number: \"))\n",
    "if num <= 1 :\n",
    "    print(num, \"is not a prime\")\n",
    "else:\n",
    "    for i in range (2,num):\n",
    "        if num % i == 0:\n",
    "            print(num,\"is not a prime number\")\n",
    "            break\n",
    "    else:\n",
    "        print(num,\"is prime number\")\n"
   ]
  },
  {
   "cell_type": "code",
   "execution_count": 10,
   "id": "4e66f127",
   "metadata": {},
   "outputs": [
    {
     "name": "stdout",
     "output_type": "stream",
     "text": [
      "2 3 5 7 11 13 17 19 23 29 31 37 41 43 47 53 59 61 67 71 73 79 83 89 97 "
     ]
    }
   ],
   "source": [
    "#print all prime numbers between 1-100\n",
    "for num in range(1,101):\n",
    "    if num <= 1 :\n",
    "          pass\n",
    "    else:\n",
    "        for i in range (2,num):\n",
    "            if num % i == 0:\n",
    "                break\n",
    "        else:\n",
    "            print(num, end = \" \")"
   ]
  },
  {
   "cell_type": "code",
   "execution_count": 50,
   "id": "5a0a1144",
   "metadata": {},
   "outputs": [
    {
     "name": "stdout",
     "output_type": "stream",
     "text": [
      "enter a number: 4\n",
      "4 is a composite number\n"
     ]
    }
   ],
   "source": [
    "# check if a give number is composite number\n",
    "# number is greater than 1 \n",
    "# has more than 2 factors\n",
    "num = int(input(\"enter a number: \"))\n",
    "if num < 4 :\n",
    "    print(num, \"is not a composite\")\n",
    "else:\n",
    "    for i in range (2,num):\n",
    "        if num % i == 0:\n",
    "            print(num,\"is a composite number\")\n",
    "            break\n",
    "    else:\n",
    "        print(num,\"is not composite number\")\n",
    "\n"
   ]
  },
  {
   "cell_type": "code",
   "execution_count": 9,
   "id": "9a3a2f2a",
   "metadata": {},
   "outputs": [
    {
     "name": "stdout",
     "output_type": "stream",
     "text": [
      "4|6|6|8|8|9|10|10|12|12|12|12|14|14|15|15|16|16|16|18|18|18|18|20|20|20|20|21|21|22|22|24|24|24|24|24|24|25|26|26|27|27|28|28|28|28|30|30|30|30|30|30|32|32|32|32|33|33|34|34|35|35|36|36|36|36|36|36|36|38|38|39|39|40|40|40|40|40|40|42|42|42|42|42|42|44|44|44|44|45|45|45|45|46|46|48|48|48|48|48|48|48|48|49|50|50|50|50|51|51|52|52|52|52|54|54|54|54|54|54|55|55|56|56|56|56|56|56|57|57|58|58|60|60|60|60|60|60|60|60|60|60|62|62|63|63|63|63|64|64|64|64|64|65|65|66|66|66|66|66|66|68|68|68|68|69|69|70|70|70|70|70|70|72|72|72|72|72|72|72|72|72|72|74|74|75|75|75|75|76|76|76|76|77|77|78|78|78|78|78|78|80|80|80|80|80|80|80|80|81|81|81|82|82|84|84|84|84|84|84|84|84|84|84|85|85|86|86|87|87|88|88|88|88|88|88|90|90|90|90|90|90|90|90|90|90|91|91|92|92|92|92|93|93|94|94|95|95|96|96|96|96|96|96|96|96|96|96|98|98|98|98|99|99|99|99|100|100|100|100|100|100|100|"
     ]
    }
   ],
   "source": [
    "#print all composite numbers between 1-100\n",
    "for num in range(1,101):\n",
    "    if num < 4 :\n",
    "        pass\n",
    "    else:\n",
    "        for i in range (2,num):\n",
    "            if num % i == 0:\n",
    "                print(num, end = \"|\")\n"
   ]
  },
  {
   "cell_type": "code",
   "execution_count": 8,
   "id": "78e998c1",
   "metadata": {},
   "outputs": [
    {
     "name": "stdout",
     "output_type": "stream",
     "text": [
      "enter number: 6\n",
      "6 is a perfect number\n"
     ]
    }
   ],
   "source": [
    "#check if a give number is perfect number\n",
    "# sum of all factors expect given number \n",
    "# if n = 6 , factors are 1,2,3,6 -> sum = 1+2+3 = 6\n",
    "num = int(input(\"enter number: \"))\n",
    "sum = 0 \n",
    "for i in range(1,num):\n",
    "    if num % i == 0:\n",
    "        sum = sum + i \n",
    "if sum == num:\n",
    "    print(num,\"is a perfect number\")\n",
    "else:\n",
    "    print(num,\"is not a perfect number\")"
   ]
  },
  {
   "cell_type": "code",
   "execution_count": 10,
   "id": "7720c22e",
   "metadata": {},
   "outputs": [
    {
     "name": "stdout",
     "output_type": "stream",
     "text": [
      "6|28|"
     ]
    }
   ],
   "source": [
    "# print all perfect numbers between 1-100\n",
    "for num in range(1, 101):\n",
    "    sum = 0\n",
    "    for i in range(1, num):\n",
    "        if num % i == 0:\n",
    "            sum = sum + i\n",
    "    if sum == num:\n",
    "        print(num, end=\"|\")\n"
   ]
  },
  {
   "cell_type": "code",
   "execution_count": 48,
   "id": "b55c6ec9",
   "metadata": {},
   "outputs": [
    {
     "name": "stdout",
     "output_type": "stream",
     "text": [
      "Enter a number: 153\n",
      "153 is an Armstrong number\n"
     ]
    }
   ],
   "source": [
    "# check if a give number is armstrong number\n",
    "num = int(input(\"Enter a number: \"))\n",
    "sum = 0\n",
    "temp = num\n",
    "while temp > 0:\n",
    "   digit = temp % 10\n",
    "   sum += digit ** 3\n",
    "   temp //= 10\n",
    "if num == sum:\n",
    "   print(num,\"is an Armstrong number\")\n",
    "else:\n",
    "   print(num,\"is not an Armstrong number\")\n"
   ]
  },
  {
   "cell_type": "markdown",
   "id": "fba1c7d7",
   "metadata": {},
   "source": [
    "### Problem 1: Guess the Number\n",
    "assign a value n=30. Allow the user to guess the number. If the guessed number is correct, print a congratulatory message \n",
    "and end the game. If the guessed number is incorrect, provide feedback (higher or lower) and allow the user to continue\n",
    "guessing. Use a loop to iterate until the correct number is guessed. Integrate break to end the loop when the correct guess\n",
    "is made.\n"
   ]
  },
  {
   "cell_type": "code",
   "execution_count": 13,
   "id": "7bab6a33",
   "metadata": {},
   "outputs": [
    {
     "name": "stdout",
     "output_type": "stream",
     "text": [
      "Guess the number: 30\n",
      "Congratulations!\n"
     ]
    }
   ],
   "source": [
    "#using for loop :\n",
    "n = 30  #assigned a value\n",
    "for chances in range(1,4): # they asked to iterate the loop till the correct guess. so used for loop and in how many chances.\n",
    "    user_input = int(input(\"Guess the number: \"))\n",
    "    if user_input == n: \n",
    "        print(\"Congratulations!\")\n",
    "        break # end the loop if correct guess is made.\n",
    "    else:  # give feedback \n",
    "        if user_input > n:\n",
    "            print(\"Incorrect. Try a lower number.\")\n",
    "        else:\n",
    "            print(\"Incorrect. Try a higher number.\")\n",
    "\n",
    "else:\n",
    "     print(\"sorry!, try again chances are exceeded at this time\")"
   ]
  },
  {
   "cell_type": "code",
   "execution_count": 4,
   "id": "8aacdd55",
   "metadata": {},
   "outputs": [
    {
     "name": "stdout",
     "output_type": "stream",
     "text": [
      "Guess the number: 30\n",
      "Congratulations!\n"
     ]
    }
   ],
   "source": [
    "n = 30  # assigned a value\n",
    "while True:  # infinite loop\n",
    "    user_input = int(input(\"Guess the number: \"))\n",
    "    if user_input == n:\n",
    "        print(\"Congratulations!\")\n",
    "        break  # end the loop if correct guess is made\n",
    "    else:\n",
    "        # give feedback\n",
    "        if user_input > n:\n",
    "            print(\"Incorrect. Try a lower number.\")\n",
    "        else:\n",
    "            print(\"Incorrect. Try a higher number.\")\n",
    "\n",
    "\n"
   ]
  },
  {
   "cell_type": "markdown",
   "id": "5f76e13a",
   "metadata": {},
   "source": [
    "### Problem 2: Filter Odd Numbers\n",
    "Write a Python program that takes a list of integers as input. Use a loop to iterate through the list, skipping odd numbers using the continue statement. Print the even numbers and stop the loop using the break statement when the first negative number is encountered."
   ]
  },
  {
   "cell_type": "code",
   "execution_count": 16,
   "id": "537b7a54",
   "metadata": {},
   "outputs": [
    {
     "name": "stdout",
     "output_type": "stream",
     "text": [
      "2\n",
      "4\n",
      "negative number found, stopping the loop\n"
     ]
    }
   ],
   "source": [
    "numbers = [1,2,3,4,-6,5,6,7,-5,8,9]\n",
    "for num in numbers:\n",
    "    if num < 0:\n",
    "        print(\"negative number found, stopping the loop\")\n",
    "        break\n",
    "    if num % 2 == 1:\n",
    "        continue\n",
    "    print(num)    "
   ]
  },
  {
   "cell_type": "code",
   "execution_count": 121,
   "id": "9026146e",
   "metadata": {},
   "outputs": [
    {
     "name": "stdout",
     "output_type": "stream",
     "text": [
      "Enter a list of integers separated by spaces: 1 2 3 5 -8\n",
      "2\n",
      "First negative number encountered. Stopping the loop.\n"
     ]
    }
   ],
   "source": [
    "# numbers = int(input(\"enter a number: \"))\n",
    "# for num in numbers:\n",
    "#     if num % 2 == 1:\n",
    "#         continue\n",
    "#         print(\"odd\")\n",
    "#     else:\n",
    "#         if num < 0:\n",
    "#             print(\"negative number is found\")\n",
    "#             break\n",
    "\n",
    "\n",
    "\n",
    "# numbers = [1,3,5,-3,-6]\n",
    "# for num in numbers:\n",
    "#     if num % 2 == 1:\n",
    "#         continue\n",
    "#     print(num)\n",
    "#     if num < 0:\n",
    "#         print(\"negative number found\")\n",
    "#         break\n",
    "\n",
    "numbers = [int(x) for x in input(\"Enter a list of integers separated by spaces: \").split()]\n",
    "\n",
    "for num in numbers:\n",
    "    if num < 0:\n",
    "        print(\"First negative number encountered. Stopping the loop.\")\n",
    "        break\n",
    "\n",
    "    if num % 2 == 1:\n",
    "        continue\n",
    "    print(num)   \n",
    "    \n",
    "          "
   ]
  },
  {
   "cell_type": "code",
   "execution_count": null,
   "id": "ed13c18f",
   "metadata": {},
   "outputs": [],
   "source": []
  },
  {
   "cell_type": "code",
   "execution_count": null,
   "id": "32b82767",
   "metadata": {},
   "outputs": [],
   "source": []
  }
 ],
 "metadata": {
  "kernelspec": {
   "display_name": "Python 3 (ipykernel)",
   "language": "python",
   "name": "python3"
  },
  "language_info": {
   "codemirror_mode": {
    "name": "ipython",
    "version": 3
   },
   "file_extension": ".py",
   "mimetype": "text/x-python",
   "name": "python",
   "nbconvert_exporter": "python",
   "pygments_lexer": "ipython3",
   "version": "3.9.13"
  }
 },
 "nbformat": 4,
 "nbformat_minor": 5
}
