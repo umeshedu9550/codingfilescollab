{
 "cells": [
  {
   "cell_type": "markdown",
   "id": "437b35f5",
   "metadata": {},
   "source": [
    "given a string str1 = \"time is money\" \n",
    "a. print first 4 characters\n",
    "b. print string in reverse order\n",
    "c. split the string into words\n",
    "d. partition the string based on \"is\" keyword\n",
    "e. titlecase the string\n",
    "f capitalize the string"
   ]
  },
  {
   "cell_type": "code",
   "execution_count": 1,
   "id": "32979d1e",
   "metadata": {},
   "outputs": [
    {
     "name": "stdout",
     "output_type": "stream",
     "text": [
      "print first 4 characters\n",
      "time \n"
     ]
    }
   ],
   "source": [
    "str1 = \"time is money\"\n",
    "print(\"print first 4 characters\")\n",
    "print(str1[0:5])"
   ]
  },
  {
   "cell_type": "code",
   "execution_count": 2,
   "id": "95e3b71e",
   "metadata": {},
   "outputs": [
    {
     "name": "stdout",
     "output_type": "stream",
     "text": [
      "print string in reverse order\n",
      "yenom si emit\n"
     ]
    }
   ],
   "source": [
    "str1 = \"time is money\"\n",
    "print(\"print string in reverse order\")\n",
    "print(str1[::-1])"
   ]
  },
  {
   "cell_type": "code",
   "execution_count": 13,
   "id": "18469889",
   "metadata": {},
   "outputs": [
    {
     "name": "stdout",
     "output_type": "stream",
     "text": [
      "split the string into words\n",
      "['time ', ' money. wealth ', ' money', ' not time']\n"
     ]
    }
   ],
   "source": [
    "str1 = \"time is money. wealth is moneyis not time\"\n",
    "print(\"split the string into words\")\n",
    "print(str1.split(\"is\"))"
   ]
  },
  {
   "cell_type": "code",
   "execution_count": 12,
   "id": "e67f37b9",
   "metadata": {},
   "outputs": [
    {
     "name": "stdout",
     "output_type": "stream",
     "text": [
      "partition the string based on is keyword\n",
      "('time  money. wealth  money', '', '')\n"
     ]
    }
   ],
   "source": [
    "str1 = \"time is money. wealth is money\"\n",
    "print(\"partition the string based on is keyword\")\n",
    "print(str1.partition(\"is\"))"
   ]
  },
  {
   "cell_type": "code",
   "execution_count": 5,
   "id": "0f81169b",
   "metadata": {},
   "outputs": [
    {
     "name": "stdout",
     "output_type": "stream",
     "text": [
      "titlecase the string\n",
      "Time Is Money\n"
     ]
    }
   ],
   "source": [
    "str1 = \"time is money\"\n",
    "print(\"titlecase the string\")\n",
    "print(str1.title())"
   ]
  },
  {
   "cell_type": "code",
   "execution_count": 7,
   "id": "eb45f1e2",
   "metadata": {},
   "outputs": [
    {
     "name": "stdout",
     "output_type": "stream",
     "text": [
      "capitalize the string\n",
      "Time is money.wealth is money\n"
     ]
    }
   ],
   "source": [
    "str1 = \"time is money.wealth is money\"\n",
    "print(\"capitalize the string\")\n",
    "print(str1.capitalize())"
   ]
  },
  {
   "cell_type": "markdown",
   "id": "7f6d5025",
   "metadata": {},
   "source": [
    "take student marks as input \n",
    "print distinction if marks greater than 75\n",
    "print good if marks greater than 60\n",
    "print average if marks greater than 50\n",
    "print poor if marks greater than 40 \n",
    "print fail if marks less than 40"
   ]
  },
  {
   "cell_type": "code",
   "execution_count": 14,
   "id": "c6f60665",
   "metadata": {},
   "outputs": [
    {
     "name": "stdout",
     "output_type": "stream",
     "text": [
      "enter student marks: 90\n",
      "distinction\n"
     ]
    }
   ],
   "source": [
    "student_marks = int(input(\"enter student marks: \"))\n",
    "if student_marks > 75:\n",
    "    print(\"distinction\")\n",
    "elif student_marks >60:\n",
    "    print(\"good\")\n",
    "elif student_marks > 50:\n",
    "    print(\"average\")\n",
    "elif student_marks > 40:\n",
    "    print(\"poor\")\n",
    "else:\n",
    "    print(\"fail\")\n"
   ]
  },
  {
   "cell_type": "markdown",
   "id": "e75ef108",
   "metadata": {},
   "source": [
    "Python program that takes an input string and checks if it contains the substring \"python\" (case-insensitive). If the substring is present, replace it with \"Java\" and print the modified string; if not, append \"Python\" to the end of the original string and print the updated version."
   ]
  },
  {
   "cell_type": "code",
   "execution_count": null,
   "id": "3c1bfa1a",
   "metadata": {},
   "outputs": [],
   "source": [
    "'''\n",
    "1. Input: Get a string from the user\n",
    "2. Convert the input string to lowercase\n",
    "3. Check if the lowercase input string contains the substring \"python\"\n",
    "4. If true:\n",
    "   4.1 Replace the first occurrence of \"python\" with \"Java\"\n",
    "   4.2 Print the modified string\n",
    "5. If false:\n",
    "   5.1 Append \"Python\" to the end of the original string\n",
    "   5.2 Print the updated version   \n",
    "'''\n",
    "\n",
    "input_string = input(\"enter a string: \")\n",
    "if \"python\" in input_string.lower():\n",
    "    modified_string = input_string.replace(\"python\",\"java\")\n",
    "    print(\"modified_string:\", modified_string)\n",
    "else:\n",
    "    updated_string = input_string + \"python\"\n",
    "    print(\"updated_string:\", updated_string)    "
   ]
  }
 ],
 "metadata": {
  "kernelspec": {
   "display_name": "Python 3 (ipykernel)",
   "language": "python",
   "name": "python3"
  },
  "language_info": {
   "codemirror_mode": {
    "name": "ipython",
    "version": 3
   },
   "file_extension": ".py",
   "mimetype": "text/x-python",
   "name": "python",
   "nbconvert_exporter": "python",
   "pygments_lexer": "ipython3",
   "version": "3.9.13"
  }
 },
 "nbformat": 4,
 "nbformat_minor": 5
}
